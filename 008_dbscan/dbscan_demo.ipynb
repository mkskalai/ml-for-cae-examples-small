{
 "cells": [
  {
   "cell_type": "code",
   "execution_count": 2,
   "id": "7dcd9e72",
   "metadata": {},
   "outputs": [
    {
     "data": {
      "application/vnd.jupyter.widget-view+json": {
       "model_id": "bf7dc36de7144ef3b2e45f4ec055d269",
       "version_major": 2,
       "version_minor": 0
      },
      "text/plain": [
       "  0%|          | 0/20 [00:00<?, ?it/s]"
      ]
     },
     "metadata": {},
     "output_type": "display_data"
    },
    {
     "name": "stderr",
     "output_type": "stream",
     "text": [
      "/tmp/ipykernel_45005/154290015.py:34: DeprecationWarning: Starting with ImageIO v3 the behavior of this function will switch to that of iio.v3.imread. To keep the current behavior (and make this warning disappear) use `import imageio.v2 as imageio` or call `imageio.v2.imread` directly.\n",
      "  images = [imageio.imread(frame) for frame in frames]\n"
     ]
    },
    {
     "name": "stdout",
     "output_type": "stream",
     "text": [
      "GIF created: dbscan_demo.gif\n"
     ]
    }
   ],
   "source": [
    "import numpy as np\n",
    "import matplotlib.pyplot as plt\n",
    "from sklearn.datasets import make_blobs\n",
    "from sklearn.cluster import DBSCAN\n",
    "from tqdm.auto import tqdm\n",
    "import imageio\n",
    "\n",
    "# Function to create a scatter plot and save frames for the GIF\n",
    "def create_frame(X, labels, frame_num):\n",
    "    plt.figure(figsize=(8, 6))\n",
    "    unique_labels = set(labels)\n",
    "    colors = [plt.cm.Spectral(each) for each in np.linspace(0, 1, len(unique_labels))]\n",
    "    \n",
    "    for i, label in enumerate(unique_labels):\n",
    "        class_member_mask = (labels == label)\n",
    "        xy = X[class_member_mask]\n",
    "        plt.scatter(xy[:, 0], xy[:, 1], s=50, c=[colors[i]], label=f'Cluster {label}')\n",
    "\n",
    "    plt.title(f'DBSCAN Clustering - Frame {frame_num}')\n",
    "    plt.legend()\n",
    "    plt.xlim(-15, 15)\n",
    "    plt.ylim(-15, 15)\n",
    "    plt.grid(True)\n",
    "    \n",
    "    # Save frame as an image\n",
    "    filename = f'frame_{frame_num:03d}.png'\n",
    "    plt.savefig(filename)\n",
    "    plt.close()\n",
    "\n",
    "    return filename\n",
    "\n",
    "# Function to generate GIF from saved frames\n",
    "def create_gif(frames, gif_filename):\n",
    "    images = [imageio.imread(frame) for frame in frames]\n",
    "    imageio.mimsave(gif_filename, images, duration=1)\n",
    "\n",
    "# Create frames for the GIF\n",
    "num_frames = 20\n",
    "\n",
    "for frame_num in tqdm(range(num_frames)):\n",
    "    \n",
    "    X = []\n",
    "    \n",
    "    for i in range(np.random.randint(3,10)):\n",
    "        \n",
    "        # Generate synthetic data with blobs\n",
    "        X_tmp, y = make_blobs(\n",
    "            n_samples=np.random.randint(100,200), \n",
    "            centers=2, \n",
    "            cluster_std=np.random.random()*2, \n",
    "            random_state=np.random.randint(1,200)\n",
    "        )\n",
    "        X.append(X_tmp)\n",
    "    \n",
    "    X = np.vstack(X)\n",
    "\n",
    "    # Apply DBSCAN clustering\n",
    "    dbscan = DBSCAN(eps=1.0, min_samples=5)\n",
    "    labels = dbscan.fit_predict(X)\n",
    "\n",
    "    create_frame(X, labels, frame_num)\n",
    "\n",
    "\n",
    "# Create GIF from frames\n",
    "gif_filename = 'dbscan_demo.gif'\n",
    "create_gif([f'frame_{i:03d}.png' for i in range(num_frames)], gif_filename)\n",
    "\n",
    "print(f'GIF created: {gif_filename}')"
   ]
  },
  {
   "cell_type": "code",
   "execution_count": null,
   "id": "0733bdc2",
   "metadata": {},
   "outputs": [],
   "source": []
  }
 ],
 "metadata": {
  "kernelspec": {
   "display_name": "Python 3 (ipykernel)",
   "language": "python",
   "name": "python3"
  },
  "language_info": {
   "codemirror_mode": {
    "name": "ipython",
    "version": 3
   },
   "file_extension": ".py",
   "mimetype": "text/x-python",
   "name": "python",
   "nbconvert_exporter": "python",
   "pygments_lexer": "ipython3",
   "version": "3.10.6"
  }
 },
 "nbformat": 4,
 "nbformat_minor": 5
}
